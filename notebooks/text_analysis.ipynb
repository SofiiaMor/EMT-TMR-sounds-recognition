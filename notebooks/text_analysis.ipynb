{
 "cells": [
  {
   "cell_type": "code",
   "execution_count": 3,
   "id": "initial_id",
   "metadata": {
    "collapsed": true,
    "ExecuteTime": {
     "end_time": "2023-09-19T10:06:12.100162300Z",
     "start_time": "2023-09-19T10:06:11.969743700Z"
    }
   },
   "outputs": [],
   "source": [
    "import pandas as pd\n",
    "from unidecode import unidecode # for convertion czech symbols to english\n",
    "from psychopy import gui\n",
    "# import numpy as np\n",
    "from os import path"
   ]
  },
  {
   "cell_type": "code",
   "execution_count": 4,
   "outputs": [],
   "source": [
    "# read xls table with all images names from all subjects\n",
    "all_names = pd.read_excel('f:\\Sofia\\sleep project\\EMT study\\ALL_results\\PsychoPy xls\\image names\\ALL_GOOD\\All_names_of_images.xlsx')"
   ],
   "metadata": {
    "collapsed": false,
    "ExecuteTime": {
     "end_time": "2023-09-19T10:06:13.434247900Z",
     "start_time": "2023-09-19T10:06:11.981229600Z"
    }
   },
   "id": "83656886c8fd5692"
  },
  {
   "cell_type": "code",
   "execution_count": 5,
   "outputs": [
    {
     "data": {
      "text/plain": "                                              image set        name1  \\\nsound                                                                  \nhammer-sound300.wav                      hammer.jpg   A      kladivo   \ndolphin-laugh300.wav                   dolphine.jpg   A       delfin   \nglass-breaking-sound-effect300.wav  1-3-zrcadlo.jpg   A      zrkadlo   \nsqeeeek_stapler300.wav                  stapler.jpg   A  spinkovacka   \nhelicopter-audio300.wav              helicopter.jpg   A     vrtulnik   \n\n                                        name2                 name3  \\\nsound                                                                 \nhammer-sound300.wav                   kladivo                Hammer   \ndolphin-laugh300.wav                   delfín               Dolphin   \nglass-breaking-sound-effect300.wav    zrcadlo                Mirror   \nsqeeeek_stapler300.wav              sešívačka  Connecter for papers   \nhelicopter-audio300.wav              vrtulník            Helicopter   \n\n                                        name4        name5      name6  \\\nsound                                                                   \nhammer-sound300.wav                   kladivo     kladívko    kladivo   \ndolphin-laugh300.wav                   delfín       delfín     delfín   \nglass-breaking-sound-effect300.wav    zrcadlo      zrcadlo   zrdcadlo   \nsqeeeek_stapler300.wav              sešívačka    sešívačka  sešívačka   \nhelicopter-audio300.wav              vrtulník  helikoptéra   vrtulník   \n\n                                       name7        name8  ...     name16  \\\nsound                                                      ...              \nhammer-sound300.wav                  kladivo      kladivo  ...    kladivo   \ndolphin-laugh300.wav                  delfín       delfín  ...     delfin   \nglass-breaking-sound-effect300.wav   zrcadlo      zrcadlo  ...    zrcadlo   \nsqeeeek_stapler300.wav                 koník    sešívačka  ...  sesivacka   \nhelicopter-audio300.wav             vrtulník  helikoptéra  ...   vrtulnik   \n\n                                           name17       name18        name19  \\\nsound                                                                          \nhammer-sound300.wav                       kladivo      Kladivo       kladivo   \ndolphin-laugh300.wav                       delfín       Delfín        delfín   \nglass-breaking-sound-effect300.wav  noiční stolek      Zrcadlo  rozbití skla   \nsqeeeek_stapler300.wav              sestřihovačka    Sešívačka     sešívačka   \nhelicopter-audio300.wav               helikoptéra  Helikoptéra      vrtulník   \n\n                                       name20       name21     name22  \\\nsound                                                                   \nhammer-sound300.wav                   kladivo      kladivo    kladivo   \ndolphin-laugh300.wav                   delfín       delfín     delfín   \nglass-breaking-sound-effect300.wav    zrcadlo      zrcátko    zrcadlo   \nsqeeeek_stapler300.wav              sešívačka  svorkovačka  děrovačka   \nhelicopter-audio300.wav              vrtulník  helikoptéra   vrtulník   \n\n                                         name23  \\\nsound                                             \nhammer-sound300.wav                     kladivo   \ndolphin-laugh300.wav                     delfín   \nglass-breaking-sound-effect300.wav      zrcadlo   \nsqeeeek_stapler300.wav                sešívačka   \nhelicopter-audio300.wav             helikoptéra   \n\n                                                                      name24  \\\nsound                                                                          \nhammer-sound300.wav                                                  kladivo   \ndolphin-laugh300.wav                                                  delfín   \nglass-breaking-sound-effect300.wav  kosmetický stoleček/stoleček se zrcadlem   \nsqeeeek_stapler300.wav                                             sešívačka   \nhelicopter-audio300.wav                                          helikoptéra   \n\n                                         name25  \nsound                                            \nhammer-sound300.wav                     kladivo  \ndolphin-laugh300.wav                     delfín  \nglass-breaking-sound-effect300.wav      zrcadlo  \nsqeeeek_stapler300.wav                sešívačka  \nhelicopter-audio300.wav             helikoptéra  \n\n[5 rows x 27 columns]",
      "text/html": "<div>\n<style scoped>\n    .dataframe tbody tr th:only-of-type {\n        vertical-align: middle;\n    }\n\n    .dataframe tbody tr th {\n        vertical-align: top;\n    }\n\n    .dataframe thead th {\n        text-align: right;\n    }\n</style>\n<table border=\"1\" class=\"dataframe\">\n  <thead>\n    <tr style=\"text-align: right;\">\n      <th></th>\n      <th>image</th>\n      <th>set</th>\n      <th>name1</th>\n      <th>name2</th>\n      <th>name3</th>\n      <th>name4</th>\n      <th>name5</th>\n      <th>name6</th>\n      <th>name7</th>\n      <th>name8</th>\n      <th>...</th>\n      <th>name16</th>\n      <th>name17</th>\n      <th>name18</th>\n      <th>name19</th>\n      <th>name20</th>\n      <th>name21</th>\n      <th>name22</th>\n      <th>name23</th>\n      <th>name24</th>\n      <th>name25</th>\n    </tr>\n    <tr>\n      <th>sound</th>\n      <th></th>\n      <th></th>\n      <th></th>\n      <th></th>\n      <th></th>\n      <th></th>\n      <th></th>\n      <th></th>\n      <th></th>\n      <th></th>\n      <th></th>\n      <th></th>\n      <th></th>\n      <th></th>\n      <th></th>\n      <th></th>\n      <th></th>\n      <th></th>\n      <th></th>\n      <th></th>\n      <th></th>\n    </tr>\n  </thead>\n  <tbody>\n    <tr>\n      <th>hammer-sound300.wav</th>\n      <td>hammer.jpg</td>\n      <td>A</td>\n      <td>kladivo</td>\n      <td>kladivo</td>\n      <td>Hammer</td>\n      <td>kladivo</td>\n      <td>kladívko</td>\n      <td>kladivo</td>\n      <td>kladivo</td>\n      <td>kladivo</td>\n      <td>...</td>\n      <td>kladivo</td>\n      <td>kladivo</td>\n      <td>Kladivo</td>\n      <td>kladivo</td>\n      <td>kladivo</td>\n      <td>kladivo</td>\n      <td>kladivo</td>\n      <td>kladivo</td>\n      <td>kladivo</td>\n      <td>kladivo</td>\n    </tr>\n    <tr>\n      <th>dolphin-laugh300.wav</th>\n      <td>dolphine.jpg</td>\n      <td>A</td>\n      <td>delfin</td>\n      <td>delfín</td>\n      <td>Dolphin</td>\n      <td>delfín</td>\n      <td>delfín</td>\n      <td>delfín</td>\n      <td>delfín</td>\n      <td>delfín</td>\n      <td>...</td>\n      <td>delfin</td>\n      <td>delfín</td>\n      <td>Delfín</td>\n      <td>delfín</td>\n      <td>delfín</td>\n      <td>delfín</td>\n      <td>delfín</td>\n      <td>delfín</td>\n      <td>delfín</td>\n      <td>delfín</td>\n    </tr>\n    <tr>\n      <th>glass-breaking-sound-effect300.wav</th>\n      <td>1-3-zrcadlo.jpg</td>\n      <td>A</td>\n      <td>zrkadlo</td>\n      <td>zrcadlo</td>\n      <td>Mirror</td>\n      <td>zrcadlo</td>\n      <td>zrcadlo</td>\n      <td>zrdcadlo</td>\n      <td>zrcadlo</td>\n      <td>zrcadlo</td>\n      <td>...</td>\n      <td>zrcadlo</td>\n      <td>noiční stolek</td>\n      <td>Zrcadlo</td>\n      <td>rozbití skla</td>\n      <td>zrcadlo</td>\n      <td>zrcátko</td>\n      <td>zrcadlo</td>\n      <td>zrcadlo</td>\n      <td>kosmetický stoleček/stoleček se zrcadlem</td>\n      <td>zrcadlo</td>\n    </tr>\n    <tr>\n      <th>sqeeeek_stapler300.wav</th>\n      <td>stapler.jpg</td>\n      <td>A</td>\n      <td>spinkovacka</td>\n      <td>sešívačka</td>\n      <td>Connecter for papers</td>\n      <td>sešívačka</td>\n      <td>sešívačka</td>\n      <td>sešívačka</td>\n      <td>koník</td>\n      <td>sešívačka</td>\n      <td>...</td>\n      <td>sesivacka</td>\n      <td>sestřihovačka</td>\n      <td>Sešívačka</td>\n      <td>sešívačka</td>\n      <td>sešívačka</td>\n      <td>svorkovačka</td>\n      <td>děrovačka</td>\n      <td>sešívačka</td>\n      <td>sešívačka</td>\n      <td>sešívačka</td>\n    </tr>\n    <tr>\n      <th>helicopter-audio300.wav</th>\n      <td>helicopter.jpg</td>\n      <td>A</td>\n      <td>vrtulnik</td>\n      <td>vrtulník</td>\n      <td>Helicopter</td>\n      <td>vrtulník</td>\n      <td>helikoptéra</td>\n      <td>vrtulník</td>\n      <td>vrtulník</td>\n      <td>helikoptéra</td>\n      <td>...</td>\n      <td>vrtulnik</td>\n      <td>helikoptéra</td>\n      <td>Helikoptéra</td>\n      <td>vrtulník</td>\n      <td>vrtulník</td>\n      <td>helikoptéra</td>\n      <td>vrtulník</td>\n      <td>helikoptéra</td>\n      <td>helikoptéra</td>\n      <td>helikoptéra</td>\n    </tr>\n  </tbody>\n</table>\n<p>5 rows × 27 columns</p>\n</div>"
     },
     "execution_count": 5,
     "metadata": {},
     "output_type": "execute_result"
    }
   ],
   "source": [
    "# view the dataset\n",
    "all_names = all_names.set_index('sound')\n",
    "all_names.head()"
   ],
   "metadata": {
    "collapsed": false,
    "ExecuteTime": {
     "end_time": "2023-09-19T10:06:13.484238800Z",
     "start_time": "2023-09-19T10:06:13.435248400Z"
    }
   },
   "id": "989711c701537ba4"
  },
  {
   "cell_type": "code",
   "execution_count": 6,
   "outputs": [
    {
     "data": {
      "text/plain": "                                          name1      name2  \\\nsound                                                        \nhammer-sound300.wav                     kladivo    kladivo   \ndolphin-laugh300.wav                     delfin     delfín   \nglass-breaking-sound-effect300.wav      zrkadlo    zrcadlo   \nsqeeeek_stapler300.wav              spinkovacka  sešívačka   \nhelicopter-audio300.wav                vrtulnik   vrtulník   \n\n                                                   name3      name4  \\\nsound                                                                 \nhammer-sound300.wav                               Hammer    kladivo   \ndolphin-laugh300.wav                             Dolphin     delfín   \nglass-breaking-sound-effect300.wav                Mirror    zrcadlo   \nsqeeeek_stapler300.wav              Connecter for papers  sešívačka   \nhelicopter-audio300.wav                       Helicopter   vrtulník   \n\n                                          name5      name6     name7  \\\nsound                                                                  \nhammer-sound300.wav                    kladívko    kladivo   kladivo   \ndolphin-laugh300.wav                     delfín     delfín    delfín   \nglass-breaking-sound-effect300.wav      zrcadlo   zrdcadlo   zrcadlo   \nsqeeeek_stapler300.wav                sešívačka  sešívačka     koník   \nhelicopter-audio300.wav             helikoptéra   vrtulník  vrtulník   \n\n                                          name8      name9     name10  ...  \\\nsound                                                                  ...   \nhammer-sound300.wav                     kladivo    kladivo    kladivo  ...   \ndolphin-laugh300.wav                     delfín     delfín     delfín  ...   \nglass-breaking-sound-effect300.wav      zrcadlo    zrcadlo    zrcadlo  ...   \nsqeeeek_stapler300.wav                sešívačka  sešívačka  sešívačka  ...   \nhelicopter-audio300.wav             helikoptéra   vrtulník   vrtulník  ...   \n\n                                       name16         name17       name18  \\\nsound                                                                       \nhammer-sound300.wav                   kladivo        kladivo      Kladivo   \ndolphin-laugh300.wav                   delfin         delfín       Delfín   \nglass-breaking-sound-effect300.wav    zrcadlo  noiční stolek      Zrcadlo   \nsqeeeek_stapler300.wav              sesivacka  sestřihovačka    Sešívačka   \nhelicopter-audio300.wav              vrtulnik    helikoptéra  Helikoptéra   \n\n                                          name19     name20       name21  \\\nsound                                                                      \nhammer-sound300.wav                      kladivo    kladivo      kladivo   \ndolphin-laugh300.wav                      delfín     delfín       delfín   \nglass-breaking-sound-effect300.wav  rozbití skla    zrcadlo      zrcátko   \nsqeeeek_stapler300.wav                 sešívačka  sešívačka  svorkovačka   \nhelicopter-audio300.wav                 vrtulník   vrtulník  helikoptéra   \n\n                                       name22       name23  \\\nsound                                                        \nhammer-sound300.wav                   kladivo      kladivo   \ndolphin-laugh300.wav                   delfín       delfín   \nglass-breaking-sound-effect300.wav    zrcadlo      zrcadlo   \nsqeeeek_stapler300.wav              děrovačka    sešívačka   \nhelicopter-audio300.wav              vrtulník  helikoptéra   \n\n                                                                      name24  \\\nsound                                                                          \nhammer-sound300.wav                                                  kladivo   \ndolphin-laugh300.wav                                                  delfín   \nglass-breaking-sound-effect300.wav  kosmetický stoleček/stoleček se zrcadlem   \nsqeeeek_stapler300.wav                                             sešívačka   \nhelicopter-audio300.wav                                          helikoptéra   \n\n                                         name25  \nsound                                            \nhammer-sound300.wav                     kladivo  \ndolphin-laugh300.wav                     delfín  \nglass-breaking-sound-effect300.wav      zrcadlo  \nsqeeeek_stapler300.wav                sešívačka  \nhelicopter-audio300.wav             helikoptéra  \n\n[5 rows x 25 columns]",
      "text/html": "<div>\n<style scoped>\n    .dataframe tbody tr th:only-of-type {\n        vertical-align: middle;\n    }\n\n    .dataframe tbody tr th {\n        vertical-align: top;\n    }\n\n    .dataframe thead th {\n        text-align: right;\n    }\n</style>\n<table border=\"1\" class=\"dataframe\">\n  <thead>\n    <tr style=\"text-align: right;\">\n      <th></th>\n      <th>name1</th>\n      <th>name2</th>\n      <th>name3</th>\n      <th>name4</th>\n      <th>name5</th>\n      <th>name6</th>\n      <th>name7</th>\n      <th>name8</th>\n      <th>name9</th>\n      <th>name10</th>\n      <th>...</th>\n      <th>name16</th>\n      <th>name17</th>\n      <th>name18</th>\n      <th>name19</th>\n      <th>name20</th>\n      <th>name21</th>\n      <th>name22</th>\n      <th>name23</th>\n      <th>name24</th>\n      <th>name25</th>\n    </tr>\n    <tr>\n      <th>sound</th>\n      <th></th>\n      <th></th>\n      <th></th>\n      <th></th>\n      <th></th>\n      <th></th>\n      <th></th>\n      <th></th>\n      <th></th>\n      <th></th>\n      <th></th>\n      <th></th>\n      <th></th>\n      <th></th>\n      <th></th>\n      <th></th>\n      <th></th>\n      <th></th>\n      <th></th>\n      <th></th>\n      <th></th>\n    </tr>\n  </thead>\n  <tbody>\n    <tr>\n      <th>hammer-sound300.wav</th>\n      <td>kladivo</td>\n      <td>kladivo</td>\n      <td>Hammer</td>\n      <td>kladivo</td>\n      <td>kladívko</td>\n      <td>kladivo</td>\n      <td>kladivo</td>\n      <td>kladivo</td>\n      <td>kladivo</td>\n      <td>kladivo</td>\n      <td>...</td>\n      <td>kladivo</td>\n      <td>kladivo</td>\n      <td>Kladivo</td>\n      <td>kladivo</td>\n      <td>kladivo</td>\n      <td>kladivo</td>\n      <td>kladivo</td>\n      <td>kladivo</td>\n      <td>kladivo</td>\n      <td>kladivo</td>\n    </tr>\n    <tr>\n      <th>dolphin-laugh300.wav</th>\n      <td>delfin</td>\n      <td>delfín</td>\n      <td>Dolphin</td>\n      <td>delfín</td>\n      <td>delfín</td>\n      <td>delfín</td>\n      <td>delfín</td>\n      <td>delfín</td>\n      <td>delfín</td>\n      <td>delfín</td>\n      <td>...</td>\n      <td>delfin</td>\n      <td>delfín</td>\n      <td>Delfín</td>\n      <td>delfín</td>\n      <td>delfín</td>\n      <td>delfín</td>\n      <td>delfín</td>\n      <td>delfín</td>\n      <td>delfín</td>\n      <td>delfín</td>\n    </tr>\n    <tr>\n      <th>glass-breaking-sound-effect300.wav</th>\n      <td>zrkadlo</td>\n      <td>zrcadlo</td>\n      <td>Mirror</td>\n      <td>zrcadlo</td>\n      <td>zrcadlo</td>\n      <td>zrdcadlo</td>\n      <td>zrcadlo</td>\n      <td>zrcadlo</td>\n      <td>zrcadlo</td>\n      <td>zrcadlo</td>\n      <td>...</td>\n      <td>zrcadlo</td>\n      <td>noiční stolek</td>\n      <td>Zrcadlo</td>\n      <td>rozbití skla</td>\n      <td>zrcadlo</td>\n      <td>zrcátko</td>\n      <td>zrcadlo</td>\n      <td>zrcadlo</td>\n      <td>kosmetický stoleček/stoleček se zrcadlem</td>\n      <td>zrcadlo</td>\n    </tr>\n    <tr>\n      <th>sqeeeek_stapler300.wav</th>\n      <td>spinkovacka</td>\n      <td>sešívačka</td>\n      <td>Connecter for papers</td>\n      <td>sešívačka</td>\n      <td>sešívačka</td>\n      <td>sešívačka</td>\n      <td>koník</td>\n      <td>sešívačka</td>\n      <td>sešívačka</td>\n      <td>sešívačka</td>\n      <td>...</td>\n      <td>sesivacka</td>\n      <td>sestřihovačka</td>\n      <td>Sešívačka</td>\n      <td>sešívačka</td>\n      <td>sešívačka</td>\n      <td>svorkovačka</td>\n      <td>děrovačka</td>\n      <td>sešívačka</td>\n      <td>sešívačka</td>\n      <td>sešívačka</td>\n    </tr>\n    <tr>\n      <th>helicopter-audio300.wav</th>\n      <td>vrtulnik</td>\n      <td>vrtulník</td>\n      <td>Helicopter</td>\n      <td>vrtulník</td>\n      <td>helikoptéra</td>\n      <td>vrtulník</td>\n      <td>vrtulník</td>\n      <td>helikoptéra</td>\n      <td>vrtulník</td>\n      <td>vrtulník</td>\n      <td>...</td>\n      <td>vrtulnik</td>\n      <td>helikoptéra</td>\n      <td>Helikoptéra</td>\n      <td>vrtulník</td>\n      <td>vrtulník</td>\n      <td>helikoptéra</td>\n      <td>vrtulník</td>\n      <td>helikoptéra</td>\n      <td>helikoptéra</td>\n      <td>helikoptéra</td>\n    </tr>\n  </tbody>\n</table>\n<p>5 rows × 25 columns</p>\n</div>"
     },
     "execution_count": 6,
     "metadata": {},
     "output_type": "execute_result"
    }
   ],
   "source": [
    "# delete unnessesary columns\n",
    "all_names.drop(columns=['image', 'set'], inplace= True)\n",
    "all_names.head()"
   ],
   "metadata": {
    "collapsed": false,
    "ExecuteTime": {
     "end_time": "2023-09-19T10:06:13.516397900Z",
     "start_time": "2023-09-19T10:06:13.479242100Z"
    }
   },
   "id": "e1b804cb5b748600"
  },
  {
   "cell_type": "code",
   "execution_count": 7,
   "outputs": [
    {
     "data": {
      "text/plain": "                                               name1      name2  \\\nsound                                                             \nhammer-sound300.wav                          kladivo    kladivo   \ndolphin-laugh300.wav                          delfin     delfin   \nglass-breaking-sound-effect300.wav           zrkadlo    zrcadlo   \nsqeeeek_stapler300.wav                   spinkovacka  sesivacka   \nhelicopter-audio300.wav                     vrtulnik   vrtulnik   \ncomputer-keyboard-sounds300.wav                   pc    pocitac   \nbumblebee300.wav                             cmeliak      vcela   \npunch-sound300.wav                               box        box   \nvacuum-cleaner-sound300.wav                  vysavac    vysavac   \nsheep-bah-sound-effect300.wav                   ovca       ovce   \ndrum-roll-sound-effect300.wav                  bubon      buben   \nlarge-dog-bark-once-sound-effect300.wav          pes        pes   \ncar-engine300.wav                               auto       auto   \nbrushing-teeth-sound-effect300.wav             kefka   kartacek   \nScissors300.wav                              noznice      nuzky   \ntiger300.wav                                    lev        tygr   \nbell300.wav                                   kostol     kostel   \ntrain300.wav                                    vlak       vlak   \ncockerel-crowing-sound300.wav                  kohut     kohout   \nowl300.wav                                      sova       sova   \npiano-sound300.wav                            klavir     klavir   \n\n                                                        name3       name4  \\\nsound                                                                       \nhammer-sound300.wav                                    hammer     kladivo   \ndolphin-laugh300.wav                                  dolphin      delfin   \nglass-breaking-sound-effect300.wav                     mirror     zrcadlo   \nsqeeeek_stapler300.wav                   connecter for papers   sesivacka   \nhelicopter-audio300.wav                            helicopter    vrtulnik   \ncomputer-keyboard-sounds300.wav                        laptop     pocitac   \nbumblebee300.wav                                     bumblbee      cmelak   \npunch-sound300.wav                           rukavice pro box     boxerky   \nvacuum-cleaner-sound300.wav                     vaucumcleaner     vysavac   \nsheep-bah-sound-effect300.wav                           sheep        ovce   \ndrum-roll-sound-effect300.wav                            drum       buben   \nlarge-dog-bark-once-sound-effect300.wav                   dog         pes   \ncar-engine300.wav                                  automobile        auto   \nbrushing-teeth-sound-effect300.wav                tooth brush    kartacek   \nScissors300.wav                                      scissors       nuzky   \ntiger300.wav                                            tiger        tygr   \nbell300.wav                                            church        zvon   \ntrain300.wav                                            train  lokomotiva   \ncockerel-crowing-sound300.wav                         rooster      kohout   \nowl300.wav                                                owl        sova   \npiano-sound300.wav                                      piano      klavir   \n\n                                               name5              name6  \\\nsound                                                                     \nhammer-sound300.wav                         kladivko            kladivo   \ndolphin-laugh300.wav                          delfin             delfin   \nglass-breaking-sound-effect300.wav           zrcadlo           zrdcadlo   \nsqeeeek_stapler300.wav                     sesivacka          sesivacka   \nhelicopter-audio300.wav                  helikoptera           vrtulnik   \ncomputer-keyboard-sounds300.wav              pocitac             laptop   \nbumblebee300.wav                              cmelak             cmelak   \npunch-sound300.wav                               box  boxovaci rukavice   \nvacuum-cleaner-sound300.wav                  vysavac            vysavac   \nsheep-bah-sound-effect300.wav                   ovce               ovce   \ndrum-roll-sound-effect300.wav                  buben            bubinek   \nlarge-dog-bark-once-sound-effect300.wav          pes                pes   \ncar-engine300.wav                               auto               auto   \nbrushing-teeth-sound-effect300.wav          kartacek           kartacek   \nScissors300.wav                                nuzky              nuzky   \ntiger300.wav                                    tygr               tygr   \nbell300.wav                                   kostel             kostel   \ntrain300.wav                                    vlak               vlak   \ncockerel-crowing-sound300.wav                 kohout             kohout   \nowl300.wav                                      sova               sova   \npiano-sound300.wav                             piano             klavir   \n\n                                                     name7        name8  \\\nsound                                                                     \nhammer-sound300.wav                                kladivo      kladivo   \ndolphin-laugh300.wav                                delfin       delfin   \nglass-breaking-sound-effect300.wav                 zrcadlo      zrcadlo   \nsqeeeek_stapler300.wav                               konik    sesivacka   \nhelicopter-audio300.wav                           vrtulnik  helikoptera   \ncomputer-keyboard-sounds300.wav                    pocitac      pocitac   \nbumblebee300.wav                                vosa vcela       cmelak   \npunch-sound300.wav                       boxerske rukavice          box   \nvacuum-cleaner-sound300.wav                        vysavac      vysavac   \nsheep-bah-sound-effect300.wav                       ovecka         ovce   \ndrum-roll-sound-effect300.wav                        buben        buben   \nlarge-dog-bark-once-sound-effect300.wav                pes          pes   \ncar-engine300.wav                                     auto         auto   \nbrushing-teeth-sound-effect300.wav                kartacek     kartacek   \nScissors300.wav                                      nuzky        nuzky   \ntiger300.wav                                          tygr         tygr   \nbell300.wav                                         kostel       kostel   \ntrain300.wav                                          vlak         vlak   \ncockerel-crowing-sound300.wav                       kohout       kohout   \nowl300.wav                                            sova         ptak   \npiano-sound300.wav                                  klavir       klavir   \n\n                                                     name9     name10  ...  \\\nsound                                                                  ...   \nhammer-sound300.wav                                kladivo    kladivo  ...   \ndolphin-laugh300.wav                                delfin     delfin  ...   \nglass-breaking-sound-effect300.wav                 zrcadlo    zrcadlo  ...   \nsqeeeek_stapler300.wav                           sesivacka  sesivacka  ...   \nhelicopter-audio300.wav                           vrtulnik   vrtulnik  ...   \ncomputer-keyboard-sounds300.wav                    pocitac   notebook  ...   \nbumblebee300.wav                                    cmelak     cmelak  ...   \npunch-sound300.wav                       boxerske rukavice        box  ...   \nvacuum-cleaner-sound300.wav                        vysavac    vysavac  ...   \nsheep-bah-sound-effect300.wav                         ovce       ovce  ...   \ndrum-roll-sound-effect300.wav                      bubinek      buben  ...   \nlarge-dog-bark-once-sound-effect300.wav                pes        pes  ...   \ncar-engine300.wav                                     auto       auto  ...   \nbrushing-teeth-sound-effect300.wav                kartacek   kartacek  ...   \nScissors300.wav                                      nuzky      nuzky  ...   \ntiger300.wav                                          tygr       tygr  ...   \nbell300.wav                                         kostel     kostel  ...   \ntrain300.wav                                          vlak       vlak  ...   \ncockerel-crowing-sound300.wav                       kohout     kohout  ...   \nowl300.wav                                            sova       sova  ...   \npiano-sound300.wav                                  klavir     klavir  ...   \n\n                                             name16         name17  \\\nsound                                                                \nhammer-sound300.wav                         kladivo        kladivo   \ndolphin-laugh300.wav                         delfin         delfin   \nglass-breaking-sound-effect300.wav          zrcadlo  noicni stolek   \nsqeeeek_stapler300.wav                    sesivacka  sestrihovacka   \nhelicopter-audio300.wav                    vrtulnik    helikoptera   \ncomputer-keyboard-sounds300.wav          klavesnice        pocitac   \nbumblebee300.wav                             cmelak         cmelak   \npunch-sound300.wav                         rukavice            box   \nvacuum-cleaner-sound300.wav                 vysavac        vysavac   \nsheep-bah-sound-effect300.wav                  ovce           ovce   \ndrum-roll-sound-effect300.wav                 buben        bubinek   \nlarge-dog-bark-once-sound-effect300.wav         pes            pes   \ncar-engine300.wav                              auto           auto   \nbrushing-teeth-sound-effect300.wav         kartacek       kartacek   \nScissors300.wav                               nuzky          nuzky   \ntiger300.wav                                   tygr           tygr   \nbell300.wav                                  kostel            kok   \ntrain300.wav                                   vlak           vlak   \ncockerel-crowing-sound300.wav                kohout         kohout   \nowl300.wav                                     sova           sova   \npiano-sound300.wav                           klavir         klavir   \n\n                                                    name18        name19  \\\nsound                                                                      \nhammer-sound300.wav                                kladivo       kladivo   \ndolphin-laugh300.wav                                delfin        delfin   \nglass-breaking-sound-effect300.wav                 zrcadlo  rozbiti skla   \nsqeeeek_stapler300.wav                           sesivacka     sesivacka   \nhelicopter-audio300.wav                        helikoptera      vrtulnik   \ncomputer-keyboard-sounds300.wav                    pocitac    klavesnice   \nbumblebee300.wav                                     vcela        cmelak   \npunch-sound300.wav                       boxerske rukavice    uder pesti   \nvacuum-cleaner-sound300.wav                        vysavac       vysavac   \nsheep-bah-sound-effect300.wav                         ovce          ovce   \ndrum-roll-sound-effect300.wav                        buben         buben   \nlarge-dog-bark-once-sound-effect300.wav                pes           pes   \ncar-engine300.wav                                     auto          auto   \nbrushing-teeth-sound-effect300.wav        kartacek na zuby      kartacek   \nScissors300.wav                                      nuzky         nuzky   \ntiger300.wav                                          tygr          tygr   \nbell300.wav                                         kostel        kostel   \ntrain300.wav                                          vlak          vlak   \ncockerel-crowing-sound300.wav                       kohout        kohout   \nowl300.wav                                            sova          sova   \npiano-sound300.wav                                   piano         piano   \n\n                                            name20              name21  \\\nsound                                                                    \nhammer-sound300.wav                        kladivo             kladivo   \ndolphin-laugh300.wav                        delfin              delfin   \nglass-breaking-sound-effect300.wav         zrcadlo             zrcatko   \nsqeeeek_stapler300.wav                   sesivacka         svorkovacka   \nhelicopter-audio300.wav                   vrtulnik         helikoptera   \ncomputer-keyboard-sounds300.wav            pocitac  klavesnice/pocitac   \nbumblebee300.wav                            cmelak              cmelak   \npunch-sound300.wav                         boxerky                 box   \nvacuum-cleaner-sound300.wav                vysavac             vysavac   \nsheep-bah-sound-effect300.wav                 ovce                ovce   \ndrum-roll-sound-effect300.wav                buben             bubinek   \nlarge-dog-bark-once-sound-effect300.wav        pes                 pes   \ncar-engine300.wav                             auto                auto   \nbrushing-teeth-sound-effect300.wav        kartacek            kartacek   \nScissors300.wav                              nuzky               nuzky   \ntiger300.wav                                  tygr                tygr   \nbell300.wav                                 kostel     kostelni hodiny   \ntrain300.wav                                  vlak             masinka   \ncockerel-crowing-sound300.wav               kohout              kohout   \nowl300.wav                                    sova                sova   \npiano-sound300.wav                           piano              klavir   \n\n                                            name22             name23  \\\nsound                                                                   \nhammer-sound300.wav                        kladivo            kladivo   \ndolphin-laugh300.wav                        delfin             delfin   \nglass-breaking-sound-effect300.wav         zrcadlo            zrcadlo   \nsqeeeek_stapler300.wav                   derovacka          sesivacka   \nhelicopter-audio300.wav                   vrtulnik        helikoptera   \ncomputer-keyboard-sounds300.wav           notebook            pocitac   \nbumblebee300.wav                             vcela             cmelak   \npunch-sound300.wav                         boxerky  boxovaci rukavice   \nvacuum-cleaner-sound300.wav                vysavac            vysavac   \nsheep-bah-sound-effect300.wav                 ovce               ovce   \ndrum-roll-sound-effect300.wav                buben              buben   \nlarge-dog-bark-once-sound-effect300.wav        pes                pes   \ncar-engine300.wav                             auto               auto   \nbrushing-teeth-sound-effect300.wav        kartacek   kartacek na zuby   \nScissors300.wav                              nuzky              nuzky   \ntiger300.wav                                  tygr               tygr   \nbell300.wav                                 kostel             kostel   \ntrain300.wav                                  vlak               vlak   \ncockerel-crowing-sound300.wav               kohout             kohout   \nowl300.wav                                    sova               sova   \npiano-sound300.wav                           piano             klavir   \n\n                                                                           name24  \\\nsound                                                                               \nhammer-sound300.wav                                                       kladivo   \ndolphin-laugh300.wav                                                       delfin   \nglass-breaking-sound-effect300.wav       kosmeticky stolecek/stolecek se zrcadlem   \nsqeeeek_stapler300.wav                                                  sesivacka   \nhelicopter-audio300.wav                                               helikoptera   \ncomputer-keyboard-sounds300.wav                                  pocitac/notebook   \nbumblebee300.wav                                                         cmelacek   \npunch-sound300.wav                                              boxerske rukavice   \nvacuum-cleaner-sound300.wav                                               vysavac   \nsheep-bah-sound-effect300.wav                                              ovecka   \ndrum-roll-sound-effect300.wav                                               buben   \nlarge-dog-bark-once-sound-effect300.wav                                       pes   \ncar-engine300.wav                                                            auto   \nbrushing-teeth-sound-effect300.wav                                 zubni kartacek   \nScissors300.wav                                                             nuzky   \ntiger300.wav                                                                 tygr   \nbell300.wav                                                                kostel   \ntrain300.wav                                                           lokomotiva   \ncockerel-crowing-sound300.wav                                              kohout   \nowl300.wav                                                                   sova   \npiano-sound300.wav                                                         klavir   \n\n                                                    name25  \nsound                                                       \nhammer-sound300.wav                                kladivo  \ndolphin-laugh300.wav                                delfin  \nglass-breaking-sound-effect300.wav                 zrcadlo  \nsqeeeek_stapler300.wav                           sesivacka  \nhelicopter-audio300.wav                        helikoptera  \ncomputer-keyboard-sounds300.wav                   notebook  \nbumblebee300.wav                                    cmelak  \npunch-sound300.wav                       boxovaci rukavice  \nvacuum-cleaner-sound300.wav                        vysavac  \nsheep-bah-sound-effect300.wav                         ovce  \ndrum-roll-sound-effect300.wav                      bubinek  \nlarge-dog-bark-once-sound-effect300.wav                pes  \ncar-engine300.wav                                     auto  \nbrushing-teeth-sound-effect300.wav                kartacek  \nScissors300.wav                                      nuzky  \ntiger300.wav                                          tygr  \nbell300.wav                                         kostel  \ntrain300.wav                                          vlak  \ncockerel-crowing-sound300.wav                       kohout  \nowl300.wav                                            sova  \npiano-sound300.wav                                  klavir  \n\n[21 rows x 25 columns]",
      "text/html": "<div>\n<style scoped>\n    .dataframe tbody tr th:only-of-type {\n        vertical-align: middle;\n    }\n\n    .dataframe tbody tr th {\n        vertical-align: top;\n    }\n\n    .dataframe thead th {\n        text-align: right;\n    }\n</style>\n<table border=\"1\" class=\"dataframe\">\n  <thead>\n    <tr style=\"text-align: right;\">\n      <th></th>\n      <th>name1</th>\n      <th>name2</th>\n      <th>name3</th>\n      <th>name4</th>\n      <th>name5</th>\n      <th>name6</th>\n      <th>name7</th>\n      <th>name8</th>\n      <th>name9</th>\n      <th>name10</th>\n      <th>...</th>\n      <th>name16</th>\n      <th>name17</th>\n      <th>name18</th>\n      <th>name19</th>\n      <th>name20</th>\n      <th>name21</th>\n      <th>name22</th>\n      <th>name23</th>\n      <th>name24</th>\n      <th>name25</th>\n    </tr>\n    <tr>\n      <th>sound</th>\n      <th></th>\n      <th></th>\n      <th></th>\n      <th></th>\n      <th></th>\n      <th></th>\n      <th></th>\n      <th></th>\n      <th></th>\n      <th></th>\n      <th></th>\n      <th></th>\n      <th></th>\n      <th></th>\n      <th></th>\n      <th></th>\n      <th></th>\n      <th></th>\n      <th></th>\n      <th></th>\n      <th></th>\n    </tr>\n  </thead>\n  <tbody>\n    <tr>\n      <th>hammer-sound300.wav</th>\n      <td>kladivo</td>\n      <td>kladivo</td>\n      <td>hammer</td>\n      <td>kladivo</td>\n      <td>kladivko</td>\n      <td>kladivo</td>\n      <td>kladivo</td>\n      <td>kladivo</td>\n      <td>kladivo</td>\n      <td>kladivo</td>\n      <td>...</td>\n      <td>kladivo</td>\n      <td>kladivo</td>\n      <td>kladivo</td>\n      <td>kladivo</td>\n      <td>kladivo</td>\n      <td>kladivo</td>\n      <td>kladivo</td>\n      <td>kladivo</td>\n      <td>kladivo</td>\n      <td>kladivo</td>\n    </tr>\n    <tr>\n      <th>dolphin-laugh300.wav</th>\n      <td>delfin</td>\n      <td>delfin</td>\n      <td>dolphin</td>\n      <td>delfin</td>\n      <td>delfin</td>\n      <td>delfin</td>\n      <td>delfin</td>\n      <td>delfin</td>\n      <td>delfin</td>\n      <td>delfin</td>\n      <td>...</td>\n      <td>delfin</td>\n      <td>delfin</td>\n      <td>delfin</td>\n      <td>delfin</td>\n      <td>delfin</td>\n      <td>delfin</td>\n      <td>delfin</td>\n      <td>delfin</td>\n      <td>delfin</td>\n      <td>delfin</td>\n    </tr>\n    <tr>\n      <th>glass-breaking-sound-effect300.wav</th>\n      <td>zrkadlo</td>\n      <td>zrcadlo</td>\n      <td>mirror</td>\n      <td>zrcadlo</td>\n      <td>zrcadlo</td>\n      <td>zrdcadlo</td>\n      <td>zrcadlo</td>\n      <td>zrcadlo</td>\n      <td>zrcadlo</td>\n      <td>zrcadlo</td>\n      <td>...</td>\n      <td>zrcadlo</td>\n      <td>noicni stolek</td>\n      <td>zrcadlo</td>\n      <td>rozbiti skla</td>\n      <td>zrcadlo</td>\n      <td>zrcatko</td>\n      <td>zrcadlo</td>\n      <td>zrcadlo</td>\n      <td>kosmeticky stolecek/stolecek se zrcadlem</td>\n      <td>zrcadlo</td>\n    </tr>\n    <tr>\n      <th>sqeeeek_stapler300.wav</th>\n      <td>spinkovacka</td>\n      <td>sesivacka</td>\n      <td>connecter for papers</td>\n      <td>sesivacka</td>\n      <td>sesivacka</td>\n      <td>sesivacka</td>\n      <td>konik</td>\n      <td>sesivacka</td>\n      <td>sesivacka</td>\n      <td>sesivacka</td>\n      <td>...</td>\n      <td>sesivacka</td>\n      <td>sestrihovacka</td>\n      <td>sesivacka</td>\n      <td>sesivacka</td>\n      <td>sesivacka</td>\n      <td>svorkovacka</td>\n      <td>derovacka</td>\n      <td>sesivacka</td>\n      <td>sesivacka</td>\n      <td>sesivacka</td>\n    </tr>\n    <tr>\n      <th>helicopter-audio300.wav</th>\n      <td>vrtulnik</td>\n      <td>vrtulnik</td>\n      <td>helicopter</td>\n      <td>vrtulnik</td>\n      <td>helikoptera</td>\n      <td>vrtulnik</td>\n      <td>vrtulnik</td>\n      <td>helikoptera</td>\n      <td>vrtulnik</td>\n      <td>vrtulnik</td>\n      <td>...</td>\n      <td>vrtulnik</td>\n      <td>helikoptera</td>\n      <td>helikoptera</td>\n      <td>vrtulnik</td>\n      <td>vrtulnik</td>\n      <td>helikoptera</td>\n      <td>vrtulnik</td>\n      <td>helikoptera</td>\n      <td>helikoptera</td>\n      <td>helikoptera</td>\n    </tr>\n    <tr>\n      <th>computer-keyboard-sounds300.wav</th>\n      <td>pc</td>\n      <td>pocitac</td>\n      <td>laptop</td>\n      <td>pocitac</td>\n      <td>pocitac</td>\n      <td>laptop</td>\n      <td>pocitac</td>\n      <td>pocitac</td>\n      <td>pocitac</td>\n      <td>notebook</td>\n      <td>...</td>\n      <td>klavesnice</td>\n      <td>pocitac</td>\n      <td>pocitac</td>\n      <td>klavesnice</td>\n      <td>pocitac</td>\n      <td>klavesnice/pocitac</td>\n      <td>notebook</td>\n      <td>pocitac</td>\n      <td>pocitac/notebook</td>\n      <td>notebook</td>\n    </tr>\n    <tr>\n      <th>bumblebee300.wav</th>\n      <td>cmeliak</td>\n      <td>vcela</td>\n      <td>bumblbee</td>\n      <td>cmelak</td>\n      <td>cmelak</td>\n      <td>cmelak</td>\n      <td>vosa vcela</td>\n      <td>cmelak</td>\n      <td>cmelak</td>\n      <td>cmelak</td>\n      <td>...</td>\n      <td>cmelak</td>\n      <td>cmelak</td>\n      <td>vcela</td>\n      <td>cmelak</td>\n      <td>cmelak</td>\n      <td>cmelak</td>\n      <td>vcela</td>\n      <td>cmelak</td>\n      <td>cmelacek</td>\n      <td>cmelak</td>\n    </tr>\n    <tr>\n      <th>punch-sound300.wav</th>\n      <td>box</td>\n      <td>box</td>\n      <td>rukavice pro box</td>\n      <td>boxerky</td>\n      <td>box</td>\n      <td>boxovaci rukavice</td>\n      <td>boxerske rukavice</td>\n      <td>box</td>\n      <td>boxerske rukavice</td>\n      <td>box</td>\n      <td>...</td>\n      <td>rukavice</td>\n      <td>box</td>\n      <td>boxerske rukavice</td>\n      <td>uder pesti</td>\n      <td>boxerky</td>\n      <td>box</td>\n      <td>boxerky</td>\n      <td>boxovaci rukavice</td>\n      <td>boxerske rukavice</td>\n      <td>boxovaci rukavice</td>\n    </tr>\n    <tr>\n      <th>vacuum-cleaner-sound300.wav</th>\n      <td>vysavac</td>\n      <td>vysavac</td>\n      <td>vaucumcleaner</td>\n      <td>vysavac</td>\n      <td>vysavac</td>\n      <td>vysavac</td>\n      <td>vysavac</td>\n      <td>vysavac</td>\n      <td>vysavac</td>\n      <td>vysavac</td>\n      <td>...</td>\n      <td>vysavac</td>\n      <td>vysavac</td>\n      <td>vysavac</td>\n      <td>vysavac</td>\n      <td>vysavac</td>\n      <td>vysavac</td>\n      <td>vysavac</td>\n      <td>vysavac</td>\n      <td>vysavac</td>\n      <td>vysavac</td>\n    </tr>\n    <tr>\n      <th>sheep-bah-sound-effect300.wav</th>\n      <td>ovca</td>\n      <td>ovce</td>\n      <td>sheep</td>\n      <td>ovce</td>\n      <td>ovce</td>\n      <td>ovce</td>\n      <td>ovecka</td>\n      <td>ovce</td>\n      <td>ovce</td>\n      <td>ovce</td>\n      <td>...</td>\n      <td>ovce</td>\n      <td>ovce</td>\n      <td>ovce</td>\n      <td>ovce</td>\n      <td>ovce</td>\n      <td>ovce</td>\n      <td>ovce</td>\n      <td>ovce</td>\n      <td>ovecka</td>\n      <td>ovce</td>\n    </tr>\n    <tr>\n      <th>drum-roll-sound-effect300.wav</th>\n      <td>bubon</td>\n      <td>buben</td>\n      <td>drum</td>\n      <td>buben</td>\n      <td>buben</td>\n      <td>bubinek</td>\n      <td>buben</td>\n      <td>buben</td>\n      <td>bubinek</td>\n      <td>buben</td>\n      <td>...</td>\n      <td>buben</td>\n      <td>bubinek</td>\n      <td>buben</td>\n      <td>buben</td>\n      <td>buben</td>\n      <td>bubinek</td>\n      <td>buben</td>\n      <td>buben</td>\n      <td>buben</td>\n      <td>bubinek</td>\n    </tr>\n    <tr>\n      <th>large-dog-bark-once-sound-effect300.wav</th>\n      <td>pes</td>\n      <td>pes</td>\n      <td>dog</td>\n      <td>pes</td>\n      <td>pes</td>\n      <td>pes</td>\n      <td>pes</td>\n      <td>pes</td>\n      <td>pes</td>\n      <td>pes</td>\n      <td>...</td>\n      <td>pes</td>\n      <td>pes</td>\n      <td>pes</td>\n      <td>pes</td>\n      <td>pes</td>\n      <td>pes</td>\n      <td>pes</td>\n      <td>pes</td>\n      <td>pes</td>\n      <td>pes</td>\n    </tr>\n    <tr>\n      <th>car-engine300.wav</th>\n      <td>auto</td>\n      <td>auto</td>\n      <td>automobile</td>\n      <td>auto</td>\n      <td>auto</td>\n      <td>auto</td>\n      <td>auto</td>\n      <td>auto</td>\n      <td>auto</td>\n      <td>auto</td>\n      <td>...</td>\n      <td>auto</td>\n      <td>auto</td>\n      <td>auto</td>\n      <td>auto</td>\n      <td>auto</td>\n      <td>auto</td>\n      <td>auto</td>\n      <td>auto</td>\n      <td>auto</td>\n      <td>auto</td>\n    </tr>\n    <tr>\n      <th>brushing-teeth-sound-effect300.wav</th>\n      <td>kefka</td>\n      <td>kartacek</td>\n      <td>tooth brush</td>\n      <td>kartacek</td>\n      <td>kartacek</td>\n      <td>kartacek</td>\n      <td>kartacek</td>\n      <td>kartacek</td>\n      <td>kartacek</td>\n      <td>kartacek</td>\n      <td>...</td>\n      <td>kartacek</td>\n      <td>kartacek</td>\n      <td>kartacek na zuby</td>\n      <td>kartacek</td>\n      <td>kartacek</td>\n      <td>kartacek</td>\n      <td>kartacek</td>\n      <td>kartacek na zuby</td>\n      <td>zubni kartacek</td>\n      <td>kartacek</td>\n    </tr>\n    <tr>\n      <th>Scissors300.wav</th>\n      <td>noznice</td>\n      <td>nuzky</td>\n      <td>scissors</td>\n      <td>nuzky</td>\n      <td>nuzky</td>\n      <td>nuzky</td>\n      <td>nuzky</td>\n      <td>nuzky</td>\n      <td>nuzky</td>\n      <td>nuzky</td>\n      <td>...</td>\n      <td>nuzky</td>\n      <td>nuzky</td>\n      <td>nuzky</td>\n      <td>nuzky</td>\n      <td>nuzky</td>\n      <td>nuzky</td>\n      <td>nuzky</td>\n      <td>nuzky</td>\n      <td>nuzky</td>\n      <td>nuzky</td>\n    </tr>\n    <tr>\n      <th>tiger300.wav</th>\n      <td>lev</td>\n      <td>tygr</td>\n      <td>tiger</td>\n      <td>tygr</td>\n      <td>tygr</td>\n      <td>tygr</td>\n      <td>tygr</td>\n      <td>tygr</td>\n      <td>tygr</td>\n      <td>tygr</td>\n      <td>...</td>\n      <td>tygr</td>\n      <td>tygr</td>\n      <td>tygr</td>\n      <td>tygr</td>\n      <td>tygr</td>\n      <td>tygr</td>\n      <td>tygr</td>\n      <td>tygr</td>\n      <td>tygr</td>\n      <td>tygr</td>\n    </tr>\n    <tr>\n      <th>bell300.wav</th>\n      <td>kostol</td>\n      <td>kostel</td>\n      <td>church</td>\n      <td>zvon</td>\n      <td>kostel</td>\n      <td>kostel</td>\n      <td>kostel</td>\n      <td>kostel</td>\n      <td>kostel</td>\n      <td>kostel</td>\n      <td>...</td>\n      <td>kostel</td>\n      <td>kok</td>\n      <td>kostel</td>\n      <td>kostel</td>\n      <td>kostel</td>\n      <td>kostelni hodiny</td>\n      <td>kostel</td>\n      <td>kostel</td>\n      <td>kostel</td>\n      <td>kostel</td>\n    </tr>\n    <tr>\n      <th>train300.wav</th>\n      <td>vlak</td>\n      <td>vlak</td>\n      <td>train</td>\n      <td>lokomotiva</td>\n      <td>vlak</td>\n      <td>vlak</td>\n      <td>vlak</td>\n      <td>vlak</td>\n      <td>vlak</td>\n      <td>vlak</td>\n      <td>...</td>\n      <td>vlak</td>\n      <td>vlak</td>\n      <td>vlak</td>\n      <td>vlak</td>\n      <td>vlak</td>\n      <td>masinka</td>\n      <td>vlak</td>\n      <td>vlak</td>\n      <td>lokomotiva</td>\n      <td>vlak</td>\n    </tr>\n    <tr>\n      <th>cockerel-crowing-sound300.wav</th>\n      <td>kohut</td>\n      <td>kohout</td>\n      <td>rooster</td>\n      <td>kohout</td>\n      <td>kohout</td>\n      <td>kohout</td>\n      <td>kohout</td>\n      <td>kohout</td>\n      <td>kohout</td>\n      <td>kohout</td>\n      <td>...</td>\n      <td>kohout</td>\n      <td>kohout</td>\n      <td>kohout</td>\n      <td>kohout</td>\n      <td>kohout</td>\n      <td>kohout</td>\n      <td>kohout</td>\n      <td>kohout</td>\n      <td>kohout</td>\n      <td>kohout</td>\n    </tr>\n    <tr>\n      <th>owl300.wav</th>\n      <td>sova</td>\n      <td>sova</td>\n      <td>owl</td>\n      <td>sova</td>\n      <td>sova</td>\n      <td>sova</td>\n      <td>sova</td>\n      <td>ptak</td>\n      <td>sova</td>\n      <td>sova</td>\n      <td>...</td>\n      <td>sova</td>\n      <td>sova</td>\n      <td>sova</td>\n      <td>sova</td>\n      <td>sova</td>\n      <td>sova</td>\n      <td>sova</td>\n      <td>sova</td>\n      <td>sova</td>\n      <td>sova</td>\n    </tr>\n    <tr>\n      <th>piano-sound300.wav</th>\n      <td>klavir</td>\n      <td>klavir</td>\n      <td>piano</td>\n      <td>klavir</td>\n      <td>piano</td>\n      <td>klavir</td>\n      <td>klavir</td>\n      <td>klavir</td>\n      <td>klavir</td>\n      <td>klavir</td>\n      <td>...</td>\n      <td>klavir</td>\n      <td>klavir</td>\n      <td>piano</td>\n      <td>piano</td>\n      <td>piano</td>\n      <td>klavir</td>\n      <td>piano</td>\n      <td>klavir</td>\n      <td>klavir</td>\n      <td>klavir</td>\n    </tr>\n  </tbody>\n</table>\n<p>21 rows × 25 columns</p>\n</div>"
     },
     "execution_count": 7,
     "metadata": {},
     "output_type": "execute_result"
    }
   ],
   "source": [
    "# convert all czech symbols to english symbols and make all lower case\n",
    "for column in all_names.columns:\n",
    "  all_names[column] = all_names[column].apply(lambda x: unidecode(x.lower()))\n",
    "all_names"
   ],
   "metadata": {
    "collapsed": false,
    "ExecuteTime": {
     "end_time": "2023-09-19T10:06:13.910857800Z",
     "start_time": "2023-09-19T10:06:13.513399200Z"
    }
   },
   "id": "dfeea547ac482dc4"
  },
  {
   "cell_type": "code",
   "execution_count": 8,
   "outputs": [],
   "source": [
    "# Function to remove duplicates in a row\n",
    "def remove_duplicates(row):\n",
    "    seen = set()\n",
    "    unique_values = []\n",
    "    for value in row:\n",
    "        if value not in seen:\n",
    "            unique_values.append(value)\n",
    "            seen.add(value)\n",
    "    return unique_values\n"
   ],
   "metadata": {
    "collapsed": false,
    "ExecuteTime": {
     "end_time": "2023-09-19T10:06:13.913857400Z",
     "start_time": "2023-09-19T10:06:13.595532900Z"
    }
   },
   "id": "fcd86481093f0e99"
  },
  {
   "cell_type": "code",
   "execution_count": 9,
   "outputs": [
    {
     "data": {
      "text/plain": "sound\nhammer-sound300.wav                                              [kladivo, hammer, kladivko]\ndolphin-laugh300.wav                                                       [delfin, dolphin]\nglass-breaking-sound-effect300.wav         [zrkadlo, zrcadlo, mirror, zrdcadlo, zrcadlo ,...\nsqeeeek_stapler300.wav                     [spinkovacka, sesivacka, connecter for papers,...\nhelicopter-audio300.wav                                  [vrtulnik, helicopter, helikoptera]\ncomputer-keyboard-sounds300.wav            [pc, pocitac, laptop, notebook, klavesnice, kl...\nbumblebee300.wav                           [cmeliak, vcela, bumblbee, cmelak, vosa vcela,...\npunch-sound300.wav                         [box, rukavice pro box, boxerky, boxovaci ruka...\nvacuum-cleaner-sound300.wav                                         [vysavac, vaucumcleaner]\nsheep-bah-sound-effect300.wav                                    [ovca, ovce, sheep, ovecka]\ndrum-roll-sound-effect300.wav                           [bubon, buben, drum, bubinek, bubny]\nlarge-dog-bark-once-sound-effect300.wav                                           [pes, dog]\ncar-engine300.wav                                                         [auto, automobile]\nbrushing-teeth-sound-effect300.wav         [kefka, kartacek, tooth brush, kartacek s past...\nScissors300.wav                                                   [noznice, nuzky, scissors]\ntiger300.wav                                                       [lev , tygr, tiger, tigr]\nbell300.wav                                [kostol, kostel, church, zvon, zvon v kostele,...\ntrain300.wav                                              [vlak, train, lokomotiva, masinka]\ncockerel-crowing-sound300.wav                                       [kohut, kohout, rooster]\nowl300.wav                                                                 [sova, owl, ptak]\npiano-sound300.wav                                             [klavir, piano, piano/klavir]\ndtype: object"
     },
     "execution_count": 9,
     "metadata": {},
     "output_type": "execute_result"
    }
   ],
   "source": [
    "# Apply the function to each row in the DataFrame\n",
    "all_unique_names = all_names.apply(remove_duplicates, axis=1)\n",
    "\n",
    "all_unique_names"
   ],
   "metadata": {
    "collapsed": false,
    "ExecuteTime": {
     "end_time": "2023-09-19T10:06:13.914855400Z",
     "start_time": "2023-09-19T10:06:13.604527200Z"
    }
   },
   "id": "7b66f61c5e7ad515"
  },
  {
   "cell_type": "code",
   "execution_count": 10,
   "outputs": [],
   "source": [
    "# export to xls\n",
    "# file_name = \"\\All_unique_names.xlsx\"\n",
    "# all_unique_names.to_excel('f:\\Sofia\\sleep project\\EMT study\\ALL_results\\PsychoPy xls\\image names\\ALL_GOOD' + file_name) "
   ],
   "metadata": {
    "collapsed": false,
    "ExecuteTime": {
     "end_time": "2023-09-19T10:06:13.915856Z",
     "start_time": "2023-09-19T10:06:13.624083Z"
    }
   },
   "id": "4ce62439a1b88b17"
  },
  {
   "cell_type": "code",
   "execution_count": 11,
   "outputs": [
    {
     "data": {
      "text/plain": "   Unnamed: 0                        sound_free_recall set      answer  \\\n0           0                          Scissors300.wav   C       Nůžky   \n1           1                  helicopter-audio300.wav   A  Helicopter   \n2           2                               owl300.wav   C         Owl   \n3           3  large-dog-bark-once-sound-effect300.wav   B         Dog   \n4           4                              bell300.wav   C      Church   \n\n   sound_start          time_exp  \n0   190.867084  2023-04-20_20h05  \n1   222.365947                    \n2   229.566045                    \n3   235.715869                    \n4   240.782491                    ",
      "text/html": "<div>\n<style scoped>\n    .dataframe tbody tr th:only-of-type {\n        vertical-align: middle;\n    }\n\n    .dataframe tbody tr th {\n        vertical-align: top;\n    }\n\n    .dataframe thead th {\n        text-align: right;\n    }\n</style>\n<table border=\"1\" class=\"dataframe\">\n  <thead>\n    <tr style=\"text-align: right;\">\n      <th></th>\n      <th>Unnamed: 0</th>\n      <th>sound_free_recall</th>\n      <th>set</th>\n      <th>answer</th>\n      <th>sound_start</th>\n      <th>time_exp</th>\n    </tr>\n  </thead>\n  <tbody>\n    <tr>\n      <th>0</th>\n      <td>0</td>\n      <td>Scissors300.wav</td>\n      <td>C</td>\n      <td>Nůžky</td>\n      <td>190.867084</td>\n      <td>2023-04-20_20h05</td>\n    </tr>\n    <tr>\n      <th>1</th>\n      <td>1</td>\n      <td>helicopter-audio300.wav</td>\n      <td>A</td>\n      <td>Helicopter</td>\n      <td>222.365947</td>\n      <td></td>\n    </tr>\n    <tr>\n      <th>2</th>\n      <td>2</td>\n      <td>owl300.wav</td>\n      <td>C</td>\n      <td>Owl</td>\n      <td>229.566045</td>\n      <td></td>\n    </tr>\n    <tr>\n      <th>3</th>\n      <td>3</td>\n      <td>large-dog-bark-once-sound-effect300.wav</td>\n      <td>B</td>\n      <td>Dog</td>\n      <td>235.715869</td>\n      <td></td>\n    </tr>\n    <tr>\n      <th>4</th>\n      <td>4</td>\n      <td>bell300.wav</td>\n      <td>C</td>\n      <td>Church</td>\n      <td>240.782491</td>\n      <td></td>\n    </tr>\n  </tbody>\n</table>\n</div>"
     },
     "execution_count": 11,
     "metadata": {},
     "output_type": "execute_result"
    }
   ],
   "source": [
    "# read xls table of one subject with responses in free recall test\n",
    "df = pd.read_excel('f:\\Sofia\\sleep project\\EMT study\\ALL_results\\PsychoPy xls\\Free_recall\\dek230420_free_recall_before_sleep_2023-04-20_20h05.xlsx')\n",
    "df.head()"
   ],
   "metadata": {
    "collapsed": false,
    "ExecuteTime": {
     "end_time": "2023-09-19T10:06:13.916854700Z",
     "start_time": "2023-09-19T10:06:13.645622400Z"
    }
   },
   "id": "5f35e42b4bc65aee"
  },
  {
   "cell_type": "code",
   "execution_count": 12,
   "outputs": [],
   "source": [
    "# convert all czech symbols to english symbols and make all lower case\n",
    "columns_to_change = ['sound_free_recall', 'answer']\n",
    "for column in columns_to_change:\n",
    "  df[column] = df[column].apply(lambda x: unidecode(x.lower()))\n",
    "df.head()"
   ],
   "metadata": {
    "collapsed": false,
    "ExecuteTime": {
     "end_time": "2023-09-19T10:06:13.916854700Z",
     "start_time": "2023-09-19T10:06:13.725162700Z"
    }
   },
   "id": "35606994f363f903"
  },
  {
   "cell_type": "code",
   "execution_count": 13,
   "outputs": [],
   "source": [
    "# a function to check if the answer is in the list within the all_unique_names series\n",
    "def check_answer(row):\n",
    "    sound_name = row['sound_free_recall']\n",
    "    answer = row['answer']\n",
    "    if sound_name in all_unique_names.index:\n",
    "        names_set = all_unique_names[sound_name]\n",
    "        return 1 if answer in names_set else answer\n",
    "    else:\n",
    "        return answer"
   ],
   "metadata": {
    "collapsed": false,
    "ExecuteTime": {
     "end_time": "2023-09-19T10:06:13.955831100Z",
     "start_time": "2023-09-19T10:06:13.736069800Z"
    }
   },
   "id": "4b37a8bc07eaaf6"
  },
  {
   "cell_type": "code",
   "execution_count": 14,
   "outputs": [
    {
     "data": {
      "text/plain": "    Unnamed: 0                        sound_free_recall set  \\\n0            0                          Scissors300.wav   C   \n1            1                  helicopter-audio300.wav   A   \n2            2                               owl300.wav   C   \n3            3  large-dog-bark-once-sound-effect300.wav   B   \n4            4                              bell300.wav   C   \n5            5       glass-breaking-sound-effect300.wav   A   \n6            6                         bumblebee300.wav   A   \n7            7                        car-engine300.wav   B   \n8            8       brushing-teeth-sound-effect300.wav   B   \n9            9            cockerel-crowing-sound300.wav   C   \n10          10                   sqeeeek_stapler300.wav   A   \n11          11              vacuum-cleaner-sound300.wav   B   \n12          12          computer-keyboard-sounds300.wav   A   \n13          13            sheep-bah-sound-effect300.wav   B   \n14          14                             train300.wav   C   \n15          15                       piano-sound300.wav   C   \n16          16                      hammer-sound300.wav   A   \n17          17            drum-roll-sound-effect300.wav   B   \n18          18                       punch-sound300.wav   B   \n19          19                             tiger300.wav   C   \n20          20                     dolphin-laugh300.wav   A   \n\n                   answer  sound_start          time_exp  \\\n0                   Nůžky   190.867084  2023-04-20_20h05   \n1              Helicopter   222.365947                     \n2                     Owl   229.566045                     \n3                     Dog   235.715869                     \n4                  Church   240.782491                     \n5                  Mirror   246.450138                     \n6                Bumblbee   256.150464                     \n7              Automobile   265.483682                     \n8   Tooth paste nad brush   275.583386                     \n9                 Rooster   298.567474                     \n10    Connecter for paper   323.134865                     \n11          vacoumcleaner   369.786776                     \n12               Notebook   393.853906                     \n13                  Sheep   421.255593                     \n14                  Train   426.905023                     \n15                  Piano   434.308830                     \n16                 Hanner   439.958293                     \n17                   Drum   445.642285                     \n18       Rukavice pro box   453.442492                     \n19                  Tiger   513.176153                     \n20                Dolphin   519.326335                     \n\n                  correct  \n0                   Nůžky  \n1              Helicopter  \n2                     Owl  \n3                     Dog  \n4                  Church  \n5                  Mirror  \n6                Bumblbee  \n7              Automobile  \n8   Tooth paste nad brush  \n9                 Rooster  \n10    Connecter for paper  \n11          vacoumcleaner  \n12               Notebook  \n13                  Sheep  \n14                  Train  \n15                  Piano  \n16                 Hanner  \n17                   Drum  \n18       Rukavice pro box  \n19                  Tiger  \n20                Dolphin  ",
      "text/html": "<div>\n<style scoped>\n    .dataframe tbody tr th:only-of-type {\n        vertical-align: middle;\n    }\n\n    .dataframe tbody tr th {\n        vertical-align: top;\n    }\n\n    .dataframe thead th {\n        text-align: right;\n    }\n</style>\n<table border=\"1\" class=\"dataframe\">\n  <thead>\n    <tr style=\"text-align: right;\">\n      <th></th>\n      <th>Unnamed: 0</th>\n      <th>sound_free_recall</th>\n      <th>set</th>\n      <th>answer</th>\n      <th>sound_start</th>\n      <th>time_exp</th>\n      <th>correct</th>\n    </tr>\n  </thead>\n  <tbody>\n    <tr>\n      <th>0</th>\n      <td>0</td>\n      <td>Scissors300.wav</td>\n      <td>C</td>\n      <td>Nůžky</td>\n      <td>190.867084</td>\n      <td>2023-04-20_20h05</td>\n      <td>Nůžky</td>\n    </tr>\n    <tr>\n      <th>1</th>\n      <td>1</td>\n      <td>helicopter-audio300.wav</td>\n      <td>A</td>\n      <td>Helicopter</td>\n      <td>222.365947</td>\n      <td></td>\n      <td>Helicopter</td>\n    </tr>\n    <tr>\n      <th>2</th>\n      <td>2</td>\n      <td>owl300.wav</td>\n      <td>C</td>\n      <td>Owl</td>\n      <td>229.566045</td>\n      <td></td>\n      <td>Owl</td>\n    </tr>\n    <tr>\n      <th>3</th>\n      <td>3</td>\n      <td>large-dog-bark-once-sound-effect300.wav</td>\n      <td>B</td>\n      <td>Dog</td>\n      <td>235.715869</td>\n      <td></td>\n      <td>Dog</td>\n    </tr>\n    <tr>\n      <th>4</th>\n      <td>4</td>\n      <td>bell300.wav</td>\n      <td>C</td>\n      <td>Church</td>\n      <td>240.782491</td>\n      <td></td>\n      <td>Church</td>\n    </tr>\n    <tr>\n      <th>5</th>\n      <td>5</td>\n      <td>glass-breaking-sound-effect300.wav</td>\n      <td>A</td>\n      <td>Mirror</td>\n      <td>246.450138</td>\n      <td></td>\n      <td>Mirror</td>\n    </tr>\n    <tr>\n      <th>6</th>\n      <td>6</td>\n      <td>bumblebee300.wav</td>\n      <td>A</td>\n      <td>Bumblbee</td>\n      <td>256.150464</td>\n      <td></td>\n      <td>Bumblbee</td>\n    </tr>\n    <tr>\n      <th>7</th>\n      <td>7</td>\n      <td>car-engine300.wav</td>\n      <td>B</td>\n      <td>Automobile</td>\n      <td>265.483682</td>\n      <td></td>\n      <td>Automobile</td>\n    </tr>\n    <tr>\n      <th>8</th>\n      <td>8</td>\n      <td>brushing-teeth-sound-effect300.wav</td>\n      <td>B</td>\n      <td>Tooth paste nad brush</td>\n      <td>275.583386</td>\n      <td></td>\n      <td>Tooth paste nad brush</td>\n    </tr>\n    <tr>\n      <th>9</th>\n      <td>9</td>\n      <td>cockerel-crowing-sound300.wav</td>\n      <td>C</td>\n      <td>Rooster</td>\n      <td>298.567474</td>\n      <td></td>\n      <td>Rooster</td>\n    </tr>\n    <tr>\n      <th>10</th>\n      <td>10</td>\n      <td>sqeeeek_stapler300.wav</td>\n      <td>A</td>\n      <td>Connecter for paper</td>\n      <td>323.134865</td>\n      <td></td>\n      <td>Connecter for paper</td>\n    </tr>\n    <tr>\n      <th>11</th>\n      <td>11</td>\n      <td>vacuum-cleaner-sound300.wav</td>\n      <td>B</td>\n      <td>vacoumcleaner</td>\n      <td>369.786776</td>\n      <td></td>\n      <td>vacoumcleaner</td>\n    </tr>\n    <tr>\n      <th>12</th>\n      <td>12</td>\n      <td>computer-keyboard-sounds300.wav</td>\n      <td>A</td>\n      <td>Notebook</td>\n      <td>393.853906</td>\n      <td></td>\n      <td>Notebook</td>\n    </tr>\n    <tr>\n      <th>13</th>\n      <td>13</td>\n      <td>sheep-bah-sound-effect300.wav</td>\n      <td>B</td>\n      <td>Sheep</td>\n      <td>421.255593</td>\n      <td></td>\n      <td>Sheep</td>\n    </tr>\n    <tr>\n      <th>14</th>\n      <td>14</td>\n      <td>train300.wav</td>\n      <td>C</td>\n      <td>Train</td>\n      <td>426.905023</td>\n      <td></td>\n      <td>Train</td>\n    </tr>\n    <tr>\n      <th>15</th>\n      <td>15</td>\n      <td>piano-sound300.wav</td>\n      <td>C</td>\n      <td>Piano</td>\n      <td>434.308830</td>\n      <td></td>\n      <td>Piano</td>\n    </tr>\n    <tr>\n      <th>16</th>\n      <td>16</td>\n      <td>hammer-sound300.wav</td>\n      <td>A</td>\n      <td>Hanner</td>\n      <td>439.958293</td>\n      <td></td>\n      <td>Hanner</td>\n    </tr>\n    <tr>\n      <th>17</th>\n      <td>17</td>\n      <td>drum-roll-sound-effect300.wav</td>\n      <td>B</td>\n      <td>Drum</td>\n      <td>445.642285</td>\n      <td></td>\n      <td>Drum</td>\n    </tr>\n    <tr>\n      <th>18</th>\n      <td>18</td>\n      <td>punch-sound300.wav</td>\n      <td>B</td>\n      <td>Rukavice pro box</td>\n      <td>453.442492</td>\n      <td></td>\n      <td>Rukavice pro box</td>\n    </tr>\n    <tr>\n      <th>19</th>\n      <td>19</td>\n      <td>tiger300.wav</td>\n      <td>C</td>\n      <td>Tiger</td>\n      <td>513.176153</td>\n      <td></td>\n      <td>Tiger</td>\n    </tr>\n    <tr>\n      <th>20</th>\n      <td>20</td>\n      <td>dolphin-laugh300.wav</td>\n      <td>A</td>\n      <td>Dolphin</td>\n      <td>519.326335</td>\n      <td></td>\n      <td>Dolphin</td>\n    </tr>\n  </tbody>\n</table>\n</div>"
     },
     "execution_count": 14,
     "metadata": {},
     "output_type": "execute_result"
    }
   ],
   "source": [
    "# Apply the function to each row in the DataFrame and create a new column 'result'\n",
    "df['correct'] = df.apply(check_answer, axis=1)\n",
    "df"
   ],
   "metadata": {
    "collapsed": false,
    "ExecuteTime": {
     "end_time": "2023-09-19T10:06:13.984815Z",
     "start_time": "2023-09-19T10:06:13.765540600Z"
    }
   },
   "id": "7e590b914cc62595"
  },
  {
   "cell_type": "code",
   "execution_count": null,
   "outputs": [],
   "source": [
    "# upload the files for all subjects (free recall before and after sleep)\n",
    "filenames = gui.fileOpenDlg(allowed=\"*.xlsx\")\n",
    "\n",
    "# create an empty DataFrame to store the aggregated data\n",
    "aggregated_data = pd.DataFrame()\n",
    "\n",
    "for thisFilename in filenames:\n",
    "    # read xls file\n",
    "    df = pd.read_excel(thisFilename)\n",
    "    file_parts = path.splitext(path.basename(thisFilename))[0].split('_')\n",
    "    \n",
    "    subject_id = file_parts[0]\n",
    "    sleep_status = file_parts[3] # before or after sleep\n",
    "    \n",
    "    # delete unnessesary columns\n",
    "    df_new = df[['sound_free_recall', 'answer']]\n",
    "\n",
    "    # convert all czech symbols to english symbols and make all lower case\n",
    "    df_new['answer'] = df_new['answer'].apply(lambda x: unidecode(x.lower()) if isinstance(x, str) else x)\n",
    "\n",
    "    # apply the function to each row in the DataFrame to check if the answer is correct\n",
    "    df_new['answer'] = df_new.apply(check_answer, axis=1)\n",
    "\n",
    "    # set the 'sound_free_recall' column as the index\n",
    "    df_new.set_index('sound_free_recall', inplace=True)\n",
    "\n",
    "    # rename the 'answer' column to 'before_sleep' or 'after_sleep' based on sleep status\n",
    "    df_new.rename(columns={'answer': f'{sleep_status}_sleep'}, inplace=True)\n",
    "\n",
    "    # transpose the DataFrame to have sounds as columns\n",
    "    df_new = df_new.T\n",
    "\n",
    "    # add the 'subject_id' as a new column\n",
    "    df_new['subject_id'] = subject_id\n",
    "    \n",
    "    # append the subject's data to the aggregated DataFrame\n",
    "    aggregated_data = pd.concat([aggregated_data, df_new], axis=0)\n",
    "    \n",
    "# reset the index \n",
    "aggregated_data.reset_index(drop=True, inplace=True)\n",
    "\n",
    "# set the index to 'subject_id' to create two levels of subcolumns\n",
    "aggregated_data.set_index(['subject_id', ['after_sleep', 'before_sleep'] * (len(aggregated_data) // 2)], inplace=True)\n",
    "\n",
    "# reset the index levels for the final structure\n",
    "aggregated_data.index.names = ['subject_id', '']\n",
    "\n",
    "aggregated_data"
   ],
   "metadata": {
    "collapsed": false
   },
   "id": "f99d0887efebae5b"
  },
  {
   "cell_type": "code",
   "execution_count": 31,
   "outputs": [],
   "source": [
    "\n",
    "# export to xls\n",
    "file_name = \"\\sample_table2.xlsx\"\n",
    "aggregated_data.to_excel('f:\\Sofia\\sleep project\\EMT study\\ALL_results\\PsychoPy xls' + file_name) "
   ],
   "metadata": {
    "collapsed": false,
    "ExecuteTime": {
     "end_time": "2023-09-19T10:56:20.784634800Z",
     "start_time": "2023-09-19T10:56:20.718328500Z"
    }
   },
   "id": "aa1ddc23878c9040"
  },
  {
   "cell_type": "code",
   "execution_count": null,
   "outputs": [],
   "source": [],
   "metadata": {
    "collapsed": false
   },
   "id": "ad3c3c22486457cf"
  }
 ],
 "metadata": {
  "kernelspec": {
   "display_name": "Python 3",
   "language": "python",
   "name": "python3"
  },
  "language_info": {
   "codemirror_mode": {
    "name": "ipython",
    "version": 2
   },
   "file_extension": ".py",
   "mimetype": "text/x-python",
   "name": "python",
   "nbconvert_exporter": "python",
   "pygments_lexer": "ipython2",
   "version": "2.7.6"
  }
 },
 "nbformat": 4,
 "nbformat_minor": 5
}
